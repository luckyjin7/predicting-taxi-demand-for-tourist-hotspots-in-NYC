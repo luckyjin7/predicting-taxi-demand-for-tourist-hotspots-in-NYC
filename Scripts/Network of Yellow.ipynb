{
 "cells": [
  {
   "cell_type": "code",
   "execution_count": 1,
   "metadata": {},
   "outputs": [
    {
     "name": "stdout",
     "output_type": "stream",
     "text": [
      "Populating the interactive namespace from numpy and matplotlib\n"
     ]
    }
   ],
   "source": [
    "import numpy as np\n",
    "import pandas as pd\n",
    "import networkx as nx \n",
    "import matplotlib.pyplot as plt\n",
    "\n",
    "%pylab inline"
   ]
  },
  {
   "cell_type": "code",
   "execution_count": 2,
   "metadata": {},
   "outputs": [],
   "source": [
    "r_dir = r'../data/raw_data/'\n",
    "c_dir = r'../data/cleaned_data/'"
   ]
  },
  {
   "cell_type": "code",
   "execution_count": 3,
   "metadata": {},
   "outputs": [
    {
     "data": {
      "text/html": [
       "<div>\n",
       "<style scoped>\n",
       "    .dataframe tbody tr th:only-of-type {\n",
       "        vertical-align: middle;\n",
       "    }\n",
       "\n",
       "    .dataframe tbody tr th {\n",
       "        vertical-align: top;\n",
       "    }\n",
       "\n",
       "    .dataframe thead th {\n",
       "        text-align: right;\n",
       "    }\n",
       "</style>\n",
       "<table border=\"1\" class=\"dataframe\">\n",
       "  <thead>\n",
       "    <tr style=\"text-align: right;\">\n",
       "      <th></th>\n",
       "      <th>OBJECTID</th>\n",
       "      <th>Shape_Leng</th>\n",
       "      <th>the_geom</th>\n",
       "      <th>Shape_Area</th>\n",
       "      <th>zone</th>\n",
       "      <th>LocationID</th>\n",
       "      <th>borough</th>\n",
       "    </tr>\n",
       "  </thead>\n",
       "  <tbody>\n",
       "    <tr>\n",
       "      <th>0</th>\n",
       "      <td>1</td>\n",
       "      <td>0.116357</td>\n",
       "      <td>MULTIPOLYGON (((-74.18445299999996 40.69499599...</td>\n",
       "      <td>0.000782</td>\n",
       "      <td>Newark Airport</td>\n",
       "      <td>1</td>\n",
       "      <td>EWR</td>\n",
       "    </tr>\n",
       "    <tr>\n",
       "      <th>1</th>\n",
       "      <td>2</td>\n",
       "      <td>0.433470</td>\n",
       "      <td>MULTIPOLYGON (((-73.82337597260663 40.63898704...</td>\n",
       "      <td>0.004866</td>\n",
       "      <td>Jamaica Bay</td>\n",
       "      <td>2</td>\n",
       "      <td>Queens</td>\n",
       "    </tr>\n",
       "    <tr>\n",
       "      <th>2</th>\n",
       "      <td>3</td>\n",
       "      <td>0.084341</td>\n",
       "      <td>MULTIPOLYGON (((-73.84792614099985 40.87134223...</td>\n",
       "      <td>0.000314</td>\n",
       "      <td>Allerton/Pelham Gardens</td>\n",
       "      <td>3</td>\n",
       "      <td>Bronx</td>\n",
       "    </tr>\n",
       "    <tr>\n",
       "      <th>3</th>\n",
       "      <td>4</td>\n",
       "      <td>0.043567</td>\n",
       "      <td>MULTIPOLYGON (((-73.97177410965318 40.72582128...</td>\n",
       "      <td>0.000112</td>\n",
       "      <td>Alphabet City</td>\n",
       "      <td>4</td>\n",
       "      <td>Manhattan</td>\n",
       "    </tr>\n",
       "    <tr>\n",
       "      <th>4</th>\n",
       "      <td>5</td>\n",
       "      <td>0.092146</td>\n",
       "      <td>MULTIPOLYGON (((-74.17421738099989 40.56256808...</td>\n",
       "      <td>0.000498</td>\n",
       "      <td>Arden Heights</td>\n",
       "      <td>5</td>\n",
       "      <td>Staten Island</td>\n",
       "    </tr>\n",
       "  </tbody>\n",
       "</table>\n",
       "</div>"
      ],
      "text/plain": [
       "   OBJECTID  Shape_Leng                                           the_geom  \\\n",
       "0         1    0.116357  MULTIPOLYGON (((-74.18445299999996 40.69499599...   \n",
       "1         2    0.433470  MULTIPOLYGON (((-73.82337597260663 40.63898704...   \n",
       "2         3    0.084341  MULTIPOLYGON (((-73.84792614099985 40.87134223...   \n",
       "3         4    0.043567  MULTIPOLYGON (((-73.97177410965318 40.72582128...   \n",
       "4         5    0.092146  MULTIPOLYGON (((-74.17421738099989 40.56256808...   \n",
       "\n",
       "   Shape_Area                     zone  LocationID        borough  \n",
       "0    0.000782           Newark Airport           1            EWR  \n",
       "1    0.004866              Jamaica Bay           2         Queens  \n",
       "2    0.000314  Allerton/Pelham Gardens           3          Bronx  \n",
       "3    0.000112            Alphabet City           4      Manhattan  \n",
       "4    0.000498            Arden Heights           5  Staten Island  "
      ]
     },
     "execution_count": 3,
     "metadata": {},
     "output_type": "execute_result"
    }
   ],
   "source": [
    "tz=pd.read_csv(r_dir+'taxi_zones.csv')\n",
    "tz.head()"
   ]
  },
  {
   "cell_type": "code",
   "execution_count": 4,
   "metadata": {},
   "outputs": [
    {
     "data": {
      "text/plain": [
       "1841"
      ]
     },
     "execution_count": 4,
     "metadata": {},
     "output_type": "execute_result"
    }
   ],
   "source": [
    "size(tz)"
   ]
  },
  {
   "cell_type": "code",
   "execution_count": 5,
   "metadata": {},
   "outputs": [
    {
     "name": "stderr",
     "output_type": "stream",
     "text": [
      "/Volumes/COSMOS/ProgramFiles/anaconda3/lib/python3.7/site-packages/numpy/lib/arraysetops.py:568: FutureWarning: elementwise comparison failed; returning scalar instead, but in the future will perform elementwise comparison\n",
      "  mask |= (ar1 == a)\n"
     ]
    },
    {
     "data": {
      "text/html": [
       "<div>\n",
       "<style scoped>\n",
       "    .dataframe tbody tr th:only-of-type {\n",
       "        vertical-align: middle;\n",
       "    }\n",
       "\n",
       "    .dataframe tbody tr th {\n",
       "        vertical-align: top;\n",
       "    }\n",
       "\n",
       "    .dataframe thead th {\n",
       "        text-align: right;\n",
       "    }\n",
       "</style>\n",
       "<table border=\"1\" class=\"dataframe\">\n",
       "  <thead>\n",
       "    <tr style=\"text-align: right;\">\n",
       "      <th></th>\n",
       "      <th>tpep_pickup_datetime</th>\n",
       "      <th>tpep_dropoff_datetime</th>\n",
       "      <th>passenger_count</th>\n",
       "      <th>PULocationID</th>\n",
       "      <th>DOLocationID</th>\n",
       "      <th>DOW</th>\n",
       "      <th>Hour_of_Day</th>\n",
       "      <th>DOM</th>\n",
       "    </tr>\n",
       "  </thead>\n",
       "  <tbody>\n",
       "    <tr>\n",
       "      <th>0</th>\n",
       "      <td>2018-12-01 00:28:22</td>\n",
       "      <td>2018-12-01 00:44:07</td>\n",
       "      <td>2</td>\n",
       "      <td>148</td>\n",
       "      <td>234</td>\n",
       "      <td>5</td>\n",
       "      <td>0</td>\n",
       "      <td>1</td>\n",
       "    </tr>\n",
       "    <tr>\n",
       "      <th>1</th>\n",
       "      <td>2018-12-01 00:52:29</td>\n",
       "      <td>2018-12-01 01:11:37</td>\n",
       "      <td>3</td>\n",
       "      <td>170</td>\n",
       "      <td>144</td>\n",
       "      <td>5</td>\n",
       "      <td>0</td>\n",
       "      <td>1</td>\n",
       "    </tr>\n",
       "    <tr>\n",
       "      <th>2</th>\n",
       "      <td>2018-12-01 00:12:52</td>\n",
       "      <td>2018-12-01 00:36:23</td>\n",
       "      <td>1</td>\n",
       "      <td>113</td>\n",
       "      <td>193</td>\n",
       "      <td>5</td>\n",
       "      <td>0</td>\n",
       "      <td>1</td>\n",
       "    </tr>\n",
       "    <tr>\n",
       "      <th>3</th>\n",
       "      <td>2018-12-01 00:35:08</td>\n",
       "      <td>2018-12-01 00:43:11</td>\n",
       "      <td>1</td>\n",
       "      <td>95</td>\n",
       "      <td>92</td>\n",
       "      <td>5</td>\n",
       "      <td>0</td>\n",
       "      <td>1</td>\n",
       "    </tr>\n",
       "    <tr>\n",
       "      <th>4</th>\n",
       "      <td>2018-12-01 00:21:54</td>\n",
       "      <td>2018-12-01 01:15:13</td>\n",
       "      <td>1</td>\n",
       "      <td>163</td>\n",
       "      <td>228</td>\n",
       "      <td>5</td>\n",
       "      <td>0</td>\n",
       "      <td>1</td>\n",
       "    </tr>\n",
       "  </tbody>\n",
       "</table>\n",
       "</div>"
      ],
      "text/plain": [
       "  tpep_pickup_datetime tpep_dropoff_datetime  passenger_count  PULocationID  \\\n",
       "0  2018-12-01 00:28:22   2018-12-01 00:44:07                2           148   \n",
       "1  2018-12-01 00:52:29   2018-12-01 01:11:37                3           170   \n",
       "2  2018-12-01 00:12:52   2018-12-01 00:36:23                1           113   \n",
       "3  2018-12-01 00:35:08   2018-12-01 00:43:11                1            95   \n",
       "4  2018-12-01 00:21:54   2018-12-01 01:15:13                1           163   \n",
       "\n",
       "   DOLocationID  DOW  Hour_of_Day  DOM  \n",
       "0           234    5            0    1  \n",
       "1           144    5            0    1  \n",
       "2           193    5            0    1  \n",
       "3            92    5            0    1  \n",
       "4           228    5            0    1  "
      ]
     },
     "execution_count": 5,
     "metadata": {},
     "output_type": "execute_result"
    }
   ],
   "source": [
    "taxi = pd.read_csv(c_dir+'yellow_12_2018.csv' , index_col=0 )\n",
    "taxi.head()"
   ]
  },
  {
   "cell_type": "code",
   "execution_count": 6,
   "metadata": {},
   "outputs": [],
   "source": [
    "taxig=nx.Graph()\n",
    "taxig.add_nodes_from(tz['LocationID'])"
   ]
  },
  {
   "cell_type": "code",
   "execution_count": 7,
   "metadata": {},
   "outputs": [
    {
     "data": {
      "text/html": [
       "<div>\n",
       "<style scoped>\n",
       "    .dataframe tbody tr th:only-of-type {\n",
       "        vertical-align: middle;\n",
       "    }\n",
       "\n",
       "    .dataframe tbody tr th {\n",
       "        vertical-align: top;\n",
       "    }\n",
       "\n",
       "    .dataframe thead th {\n",
       "        text-align: right;\n",
       "    }\n",
       "</style>\n",
       "<table border=\"1\" class=\"dataframe\">\n",
       "  <thead>\n",
       "    <tr style=\"text-align: right;\">\n",
       "      <th></th>\n",
       "      <th>PULocationID</th>\n",
       "      <th>DOLocationID</th>\n",
       "    </tr>\n",
       "  </thead>\n",
       "  <tbody>\n",
       "    <tr>\n",
       "      <th>0</th>\n",
       "      <td>148</td>\n",
       "      <td>234</td>\n",
       "    </tr>\n",
       "    <tr>\n",
       "      <th>1</th>\n",
       "      <td>170</td>\n",
       "      <td>144</td>\n",
       "    </tr>\n",
       "    <tr>\n",
       "      <th>2</th>\n",
       "      <td>113</td>\n",
       "      <td>193</td>\n",
       "    </tr>\n",
       "    <tr>\n",
       "      <th>3</th>\n",
       "      <td>95</td>\n",
       "      <td>92</td>\n",
       "    </tr>\n",
       "    <tr>\n",
       "      <th>4</th>\n",
       "      <td>163</td>\n",
       "      <td>228</td>\n",
       "    </tr>\n",
       "  </tbody>\n",
       "</table>\n",
       "</div>"
      ],
      "text/plain": [
       "   PULocationID  DOLocationID\n",
       "0           148           234\n",
       "1           170           144\n",
       "2           113           193\n",
       "3            95            92\n",
       "4           163           228"
      ]
     },
     "execution_count": 7,
     "metadata": {},
     "output_type": "execute_result"
    }
   ],
   "source": [
    "links = taxi.iloc[: , [3, 4]].copy()\n",
    "links.head()"
   ]
  },
  {
   "cell_type": "code",
   "execution_count": 8,
   "metadata": {},
   "outputs": [
    {
     "data": {
      "text/plain": [
       "8173231"
      ]
     },
     "execution_count": 8,
     "metadata": {},
     "output_type": "execute_result"
    }
   ],
   "source": [
    "size(links,0)"
   ]
  },
  {
   "cell_type": "code",
   "execution_count": 9,
   "metadata": {},
   "outputs": [],
   "source": [
    "#create list of edges as tuples\n",
    "EN=len(links.index)\n",
    "edgelist=[(links['PULocationID'][j],links['DOLocationID'][j]) for j in range(EN)]"
   ]
  },
  {
   "cell_type": "code",
   "execution_count": 10,
   "metadata": {},
   "outputs": [],
   "source": [
    "taxig.add_edges_from(edgelist)"
   ]
  },
  {
   "cell_type": "code",
   "execution_count": 11,
   "metadata": {},
   "outputs": [
    {
     "name": "stdout",
     "output_type": "stream",
     "text": [
      "Most connected taxi location is 132 with 260 connections\n"
     ]
    }
   ],
   "source": [
    "#most connected location\n",
    "LocDeg=dict(taxig.degree())\n",
    "TopLoc=list(LocDeg.keys())[np.argmax(list(LocDeg.values()))]\n",
    "print('Most connected taxi location is {0} with {1} connections'.format(TopLoc,LocDeg[TopLoc]))"
   ]
  },
  {
   "cell_type": "code",
   "execution_count": 12,
   "metadata": {},
   "outputs": [
    {
     "name": "stdout",
     "output_type": "stream",
     "text": [
      "Least connected taxi location is 103 with 0 connections\n"
     ]
    }
   ],
   "source": [
    "#least connected location\n",
    "LocDeg=dict(taxig.degree())\n",
    "TopLoc=list(LocDeg.keys())[np.argmin(list(LocDeg.values()))]\n",
    "print('Least connected taxi location is {0} with {1} connections'.format(TopLoc,LocDeg[TopLoc]))"
   ]
  },
  {
   "cell_type": "code",
   "execution_count": 13,
   "metadata": {},
   "outputs": [
    {
     "name": "stdout",
     "output_type": "stream",
     "text": [
      "Average number of connections per location is 156.3560606060606; network density =0.5945097361447171\n"
     ]
    }
   ],
   "source": [
    "#compute network average number of connections per airport and network density\n",
    "k_avg=mean(list(LocDeg.values()))\n",
    "dens=k_avg/(len(taxig)-1)\n",
    "print('Average number of connections per location is {0}; network density ={1}'.format(k_avg,dens))"
   ]
  },
  {
   "cell_type": "code",
   "execution_count": 14,
   "metadata": {},
   "outputs": [],
   "source": [
    "Name={tz.LocationID[c]:tz.zone[c] for c in tz.index}"
   ]
  },
  {
   "cell_type": "code",
   "execution_count": 15,
   "metadata": {},
   "outputs": [],
   "source": [
    "#compute travel times to different locations\n",
    "tt=dict(nx.shortest_path_length(taxig))"
   ]
  },
  {
   "cell_type": "code",
   "execution_count": 16,
   "metadata": {},
   "outputs": [],
   "source": [
    "#top 10\n",
    "#output top tn centrality scores, given the dictionary d\n",
    "def topdict(d,tn):\n",
    "    ind=sorted(d, key=d.get, reverse=True)\n",
    "    for i in range(0,tn):\n",
    "       print('{0}|{1} - {2} : {3}'.format(i+1,ind[i],Name[ind[i]],d[ind[i]]))\n",
    "    return ind"
   ]
  },
  {
   "cell_type": "code",
   "execution_count": 17,
   "metadata": {},
   "outputs": [
    {
     "name": "stdout",
     "output_type": "stream",
     "text": [
      "1|132 - JFK Airport : 260\n",
      "2|138 - LaGuardia Airport : 258\n",
      "3|170 - Murray Hill : 258\n",
      "4|161 - Midtown Center : 257\n",
      "5|230 - Times Sq/Theatre District : 257\n",
      "6|164 - Midtown South : 256\n",
      "7|68 - East Chelsea : 254\n",
      "8|186 - Penn Station/Madison Sq West : 254\n",
      "9|79 - East Village : 253\n",
      "10|48 - Clinton East : 252\n"
     ]
    }
   ],
   "source": [
    "mc1=dict(nx.degree(taxig))\n",
    "ind1=topdict(mc1,10)"
   ]
  },
  {
   "cell_type": "code",
   "execution_count": 18,
   "metadata": {},
   "outputs": [
    {
     "name": "stdout",
     "output_type": "stream",
     "text": [
      "1|170 - Murray Hill : 0.006550190299988254\n",
      "2|132 - JFK Airport : 0.006191595141521971\n",
      "3|138 - LaGuardia Airport : 0.0061321332834533854\n",
      "4|161 - Midtown Center : 0.00611154272142503\n",
      "5|230 - Times Sq/Theatre District : 0.006087124032923785\n",
      "6|164 - Midtown South : 0.006031692248575814\n",
      "7|79 - East Village : 0.005978208002421607\n",
      "8|68 - East Chelsea : 0.005959117227319554\n",
      "9|186 - Penn Station/Madison Sq West : 0.005951420962821146\n",
      "10|100 - Garment District : 0.005939657362076628\n"
     ]
    }
   ],
   "source": [
    "mc2 = nx.pagerank(taxig,0.85)\n",
    "ind2=topdict(mc2,10)"
   ]
  },
  {
   "cell_type": "code",
   "execution_count": 19,
   "metadata": {},
   "outputs": [
    {
     "name": "stdout",
     "output_type": "stream",
     "text": [
      "1|170 - Murray Hill : 0.014205797168085349\n",
      "2|132 - JFK Airport : 0.00836958384909408\n",
      "3|161 - Midtown Center : 0.007982976652115227\n",
      "4|138 - LaGuardia Airport : 0.00789604566395584\n",
      "5|230 - Times Sq/Theatre District : 0.0075370667353093414\n",
      "6|164 - Midtown South : 0.006782042100359145\n",
      "7|107 - Gramercy : 0.0067643931280112835\n",
      "8|79 - East Village : 0.006682026214465491\n",
      "9|231 - TriBeCa/Civic Center : 0.006667633082766549\n",
      "10|100 - Garment District : 0.006328857749646809\n"
     ]
    }
   ],
   "source": [
    "mc3 = nx.betweenness_centrality(taxig)\n",
    "ind3=topdict(mc3,10)"
   ]
  },
  {
   "cell_type": "code",
   "execution_count": 20,
   "metadata": {},
   "outputs": [
    {
     "name": "stdout",
     "output_type": "stream",
     "text": [
      "1|132 - JFK Airport : 0.9811182163843761\n",
      "2|138 - LaGuardia Airport : 0.9737413876897567\n",
      "3|170 - Murray Hill : 0.9737413876897567\n",
      "4|161 - Midtown Center : 0.9700944162002819\n",
      "5|230 - Times Sq/Theatre District : 0.9700944162002819\n",
      "6|164 - Midtown South : 0.9664746609159526\n",
      "7|68 - East Chelsea : 0.9593155893536122\n",
      "8|186 - Penn Station/Madison Sq West : 0.9593155893536122\n",
      "9|79 - East Village : 0.9557756794297981\n",
      "10|48 - Clinton East : 0.9522617982554239\n"
     ]
    }
   ],
   "source": [
    "mc4 = nx.closeness_centrality(taxig)\n",
    "ind4=topdict(mc4,10)"
   ]
  },
  {
   "cell_type": "code",
   "execution_count": 21,
   "metadata": {},
   "outputs": [
    {
     "data": {
      "text/plain": [
       "3"
      ]
     },
     "execution_count": 21,
     "metadata": {},
     "output_type": "execute_result"
    }
   ],
   "source": [
    "nx.number_connected_components(taxig)"
   ]
  },
  {
   "cell_type": "code",
   "execution_count": 22,
   "metadata": {},
   "outputs": [
    {
     "name": "stdout",
     "output_type": "stream",
     "text": [
      "262\n",
      "1\n",
      "1\n"
     ]
    }
   ],
   "source": [
    "for component in nx.connected_components(taxig):\n",
    "    print(len(component))"
   ]
  },
  {
   "cell_type": "code",
   "execution_count": 23,
   "metadata": {},
   "outputs": [],
   "source": [
    "ls = [taxig.subgraph(c) for c in nx.connected_components(taxig)]"
   ]
  },
  {
   "cell_type": "code",
   "execution_count": 24,
   "metadata": {},
   "outputs": [],
   "source": [
    "graphs=sorted(ls,key=len,reverse=True)[0]"
   ]
  },
  {
   "cell_type": "code",
   "execution_count": 25,
   "metadata": {},
   "outputs": [
    {
     "name": "stdout",
     "output_type": "stream",
     "text": [
      "3\n"
     ]
    }
   ],
   "source": [
    "print(nx.diameter(graphs))"
   ]
  },
  {
   "cell_type": "code",
   "execution_count": 26,
   "metadata": {},
   "outputs": [
    {
     "name": "stdout",
     "output_type": "stream",
     "text": [
      "1.404053698341669\n"
     ]
    }
   ],
   "source": [
    "print(nx.average_shortest_path_length(graphs))"
   ]
  }
 ],
 "metadata": {
  "kernelspec": {
   "display_name": "Python 3",
   "language": "python",
   "name": "python3"
  },
  "language_info": {
   "codemirror_mode": {
    "name": "ipython",
    "version": 3
   },
   "file_extension": ".py",
   "mimetype": "text/x-python",
   "name": "python",
   "nbconvert_exporter": "python",
   "pygments_lexer": "ipython3",
   "version": "3.7.3"
  }
 },
 "nbformat": 4,
 "nbformat_minor": 2
}
